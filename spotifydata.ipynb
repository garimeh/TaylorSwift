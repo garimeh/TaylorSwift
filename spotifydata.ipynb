{
 "cells": [
  {
   "cell_type": "code",
   "execution_count": 2,
   "metadata": {},
   "outputs": [],
   "source": [
    "import requests\n",
    "from bs4 import BeautifulSoup\n",
    "import pandas as pd"
   ]
  },
  {
   "cell_type": "code",
   "execution_count": 3,
   "metadata": {},
   "outputs": [],
   "source": [
    "# Website URL\n",
    "url = \"https://kworb.net/spotify/artist/06HL4z0CvFAxyc27GXpf02_songs.html\"\n",
    "\n",
    "# Make the request\n",
    "response = requests.get(url)\n",
    "response.raise_for_status()  # Check for any HTTP errors\n",
    "\n",
    "# Parse HTML with BeautifulSoup\n",
    "soup = BeautifulSoup(response.content, 'html.parser')"
   ]
  },
  {
   "cell_type": "code",
   "execution_count": 7,
   "metadata": {},
   "outputs": [],
   "source": [
    "# Find the table containing song data\n",
    "table = soup.find('table', class_='addpos sortable')\n",
    "\n",
    "# Prepare lists to store data\n",
    "song_names = []\n",
    "streams = []\n",
    "\n",
    "# Extract data from table rows\n",
    "for row in table.find_all('tr')[1:]:  # Skip the header row\n",
    "    cells = row.find_all('td')\n",
    "    song_names.append(cells[0].text.strip())  # Song Name\n",
    "    streams.append(cells[1].text.strip())  # Streams\n",
    "\n",
    "# Create a DataFrame \n",
    "df = pd.DataFrame({'song_name': song_names, 'streams': streams})\n",
    "\n",
    "# Save as CSV\n",
    "df.to_csv('taylor_swift_spotify_data.csv', index=False) "
   ]
  },
  {
   "cell_type": "code",
   "execution_count": null,
   "metadata": {},
   "outputs": [],
   "source": []
  }
 ],
 "metadata": {
  "kernelspec": {
   "display_name": "med",
   "language": "python",
   "name": "python3"
  },
  "language_info": {
   "codemirror_mode": {
    "name": "ipython",
    "version": 3
   },
   "file_extension": ".py",
   "mimetype": "text/x-python",
   "name": "python",
   "nbconvert_exporter": "python",
   "pygments_lexer": "ipython3",
   "version": "3.12.2"
  }
 },
 "nbformat": 4,
 "nbformat_minor": 2
}
